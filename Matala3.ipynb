{
 "cells": [
  {
   "cell_type": "code",
   "execution_count": 58,
   "metadata": {},
   "outputs": [],
   "source": [
    "import pandas as pd\n",
    "import csv\n",
    "import requests\n",
    "import json"
   ]
  },
  {
   "cell_type": "code",
   "execution_count": 59,
   "metadata": {},
   "outputs": [],
   "source": [
    "with open('C:/Users/RAVID/Desktop/Ariel/3rd year/semester 2/כרייה וניתוח נתונים מתקדם בפייתון/מטלות/מטלה 3/dests.txt') as file:\n",
    "    reader = csv.reader(file)\n",
    "    cities = []\n",
    "    for row in file:\n",
    "        cities.append(row.strip())"
   ]
  },
  {
   "cell_type": "code",
   "execution_count": 60,
   "metadata": {},
   "outputs": [
    {
     "name": "stdout",
     "output_type": "stream",
     "text": [
      "['Istanbul', 'Amsterdam', 'Valletta', 'Basel', 'Doha']\n"
     ]
    }
   ],
   "source": [
    "print(cities)"
   ]
  },
  {
   "cell_type": "code",
   "execution_count": 61,
   "metadata": {},
   "outputs": [],
   "source": [
    "API = 'AIzaSyCxSOpo##'\n",
    "\n",
    "url1 =\"https://maps.googleapis.com/maps/api/distancematrix/json\"\n",
    "\n",
    "dataframe = pd.DataFrame({'target':[], 'Distance_km':[], 'Duration (hour+minutes)':[], 'Longitude':[], 'latitude':[]})"
   ]
  },
  {
   "cell_type": "code",
   "execution_count": 62,
   "metadata": {},
   "outputs": [],
   "source": [
    "for i in cities:\n",
    "    params = {\n",
    "        'origins': 'Tel Aviv, Israel',\n",
    "        'destinations': i,\n",
    "        'key': API\n",
    "    }\n",
    "\n",
    "    response = requests.get(url1, params = params)\n",
    "\n",
    "    data = response.json()\n",
    "    \n",
    "    distance_text = data['rows'][0]['elements'][0]['distance']['text']\n",
    "    duration_text = data['rows'][0]['elements'][0]['duration']['text']\n",
    "    \n",
    "    \n",
    "    url2 =\"https://maps.googleapis.com/maps/api/geocode/json?address=%s&key=%s\" % (i,API)\n",
    "    \n",
    "    response2 = requests.get(url2)\n",
    "    response_data = response2.json()\n",
    "    lat = response_data['results'][0][\"geometry\"][\"location\"]['lat']\n",
    "    lng = response_data['results'][0][\"geometry\"][\"location\"]['lng']\n",
    "\n",
    "    \n",
    "    \n",
    "    new_row = {'target': data['destination_addresses'][0] , 'Distance_km': distance_text , 'Duration (hour+minutes)': duration_text, 'Longitude': lng ,'latitude': lat}\n",
    "    \n",
    "    dataframe = dataframe.append(new_row, ignore_index=True)"
   ]
  },
  {
   "cell_type": "code",
   "execution_count": 63,
   "metadata": {},
   "outputs": [
    {
     "data": {
      "text/html": [
       "<div>\n",
       "<style scoped>\n",
       "    .dataframe tbody tr th:only-of-type {\n",
       "        vertical-align: middle;\n",
       "    }\n",
       "\n",
       "    .dataframe tbody tr th {\n",
       "        vertical-align: top;\n",
       "    }\n",
       "\n",
       "    .dataframe thead th {\n",
       "        text-align: right;\n",
       "    }\n",
       "</style>\n",
       "<table border=\"1\" class=\"dataframe\">\n",
       "  <thead>\n",
       "    <tr style=\"text-align: right;\">\n",
       "      <th></th>\n",
       "      <th>target</th>\n",
       "      <th>Distance_km</th>\n",
       "      <th>Duration (hour+minutes)</th>\n",
       "      <th>Longitude</th>\n",
       "      <th>latitude</th>\n",
       "    </tr>\n",
       "  </thead>\n",
       "  <tbody>\n",
       "    <tr>\n",
       "      <th>0</th>\n",
       "      <td>İstanbul, Türkiye</td>\n",
       "      <td>1,815 km</td>\n",
       "      <td>21 hours 3 mins</td>\n",
       "      <td>28.978359</td>\n",
       "      <td>41.008238</td>\n",
       "    </tr>\n",
       "    <tr>\n",
       "      <th>1</th>\n",
       "      <td>Amsterdam, Netherlands</td>\n",
       "      <td>4,533 km</td>\n",
       "      <td>2 days 0 hours</td>\n",
       "      <td>4.904139</td>\n",
       "      <td>52.367573</td>\n",
       "    </tr>\n",
       "    <tr>\n",
       "      <th>2</th>\n",
       "      <td>Valletta, Malta</td>\n",
       "      <td>3,793 km</td>\n",
       "      <td>2 days 3 hours</td>\n",
       "      <td>14.514100</td>\n",
       "      <td>35.899237</td>\n",
       "    </tr>\n",
       "    <tr>\n",
       "      <th>3</th>\n",
       "      <td>Basel, Switzerland</td>\n",
       "      <td>4,094 km</td>\n",
       "      <td>1 day 20 hours</td>\n",
       "      <td>7.588576</td>\n",
       "      <td>47.559599</td>\n",
       "    </tr>\n",
       "    <tr>\n",
       "      <th>4</th>\n",
       "      <td>Doha, Qatar</td>\n",
       "      <td>2,164 km</td>\n",
       "      <td>22 hours 39 mins</td>\n",
       "      <td>51.531040</td>\n",
       "      <td>25.285447</td>\n",
       "    </tr>\n",
       "  </tbody>\n",
       "</table>\n",
       "</div>"
      ],
      "text/plain": [
       "                   target Distance_km Duration (hour+minutes)  Longitude  \\\n",
       "0       İstanbul, Türkiye    1,815 km         21 hours 3 mins  28.978359   \n",
       "1  Amsterdam, Netherlands    4,533 km          2 days 0 hours   4.904139   \n",
       "2         Valletta, Malta    3,793 km          2 days 3 hours  14.514100   \n",
       "3      Basel, Switzerland    4,094 km          1 day 20 hours   7.588576   \n",
       "4             Doha, Qatar    2,164 km        22 hours 39 mins  51.531040   \n",
       "\n",
       "    latitude  \n",
       "0  41.008238  \n",
       "1  52.367573  \n",
       "2  35.899237  \n",
       "3  47.559599  \n",
       "4  25.285447  "
      ]
     },
     "execution_count": 63,
     "metadata": {},
     "output_type": "execute_result"
    }
   ],
   "source": [
    "dataframe"
   ]
  },
  {
   "cell_type": "code",
   "execution_count": 64,
   "metadata": {},
   "outputs": [],
   "source": [
    "Furthest = dataframe.sort_values('Distance_km', ascending=False).reset_index(drop =True)['target'][:3]\n"
   ]
  },
  {
   "cell_type": "code",
   "execution_count": 65,
   "metadata": {},
   "outputs": [
    {
     "data": {
      "text/plain": [
       "0    Amsterdam, Netherlands\n",
       "1        Basel, Switzerland\n",
       "2           Valletta, Malta\n",
       "Name: target, dtype: object"
      ]
     },
     "execution_count": 65,
     "metadata": {},
     "output_type": "execute_result"
    }
   ],
   "source": [
    "Furthest"
   ]
  },
  {
   "cell_type": "code",
   "execution_count": null,
   "metadata": {},
   "outputs": [],
   "source": []
  }
 ],
 "metadata": {
  "kernelspec": {
   "display_name": "Python 3",
   "language": "python",
   "name": "python3"
  },
  "language_info": {
   "codemirror_mode": {
    "name": "ipython",
    "version": 3
   },
   "file_extension": ".py",
   "mimetype": "text/x-python",
   "name": "python",
   "nbconvert_exporter": "python",
   "pygments_lexer": "ipython3",
   "version": "3.8.5"
  }
 },
 "nbformat": 4,
 "nbformat_minor": 4
}
